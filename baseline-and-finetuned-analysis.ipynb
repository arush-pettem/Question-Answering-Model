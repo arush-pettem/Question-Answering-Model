{
 "cells": [
  {
   "cell_type": "code",
   "execution_count": null,
   "metadata": {
    "execution": {
     "iopub.execute_input": "2025-09-07T16:45:52.254208Z",
     "iopub.status.busy": "2025-09-07T16:45:52.253735Z",
     "iopub.status.idle": "2025-09-07T16:45:52.670954Z",
     "shell.execute_reply": "2025-09-07T16:45:52.670216Z",
     "shell.execute_reply.started": "2025-09-07T16:45:52.254156Z"
    },
    "trusted": true
   },
   "outputs": [],
   "source": [
    "from huggingface_hub import login\n",
    "login(new_session=False)\n"
   ]
  },
  {
   "cell_type": "code",
   "execution_count": null,
   "metadata": {
    "collapsed": true,
    "execution": {
     "iopub.execute_input": "2025-09-07T16:46:09.677792Z",
     "iopub.status.busy": "2025-09-07T16:46:09.677083Z",
     "iopub.status.idle": "2025-09-07T16:48:05.447005Z",
     "shell.execute_reply": "2025-09-07T16:48:05.446061Z",
     "shell.execute_reply.started": "2025-09-07T16:46:09.677764Z"
    },
    "jupyter": {
     "outputs_hidden": true
    },
    "trusted": true
   },
   "outputs": [],
   "source": [
    "\n",
    "!pip install  pip \n",
    "!pip install  torch\n",
    "!pip install  transformers\n",
    "!pip install  datasets\n",
    "!pip install  accelerate\n",
    "!pip install  bitsandbytes \n",
    "!pip install  peft\n",
    "!pip install trl==0.9.4\n",
    "!pip install  colored "
   ]
  },
  {
   "cell_type": "code",
   "execution_count": null,
   "metadata": {
    "execution": {
     "iopub.execute_input": "2025-09-07T16:48:05.448893Z",
     "iopub.status.busy": "2025-09-07T16:48:05.448652Z",
     "iopub.status.idle": "2025-09-07T16:48:40.668751Z",
     "shell.execute_reply": "2025-09-07T16:48:40.668159Z",
     "shell.execute_reply.started": "2025-09-07T16:48:05.448870Z"
    },
    "trusted": true
   },
   "outputs": [],
   "source": [
    "# Imports\n",
    "import random\n",
    "from textwrap import dedent\n",
    "from typing import Dict, List\n",
    "\n",
    "import matplotlib as mpl\n",
    "import matplotlib.colors as colors\n",
    "import matplotlib.pyplot as plt\n",
    "import numpy as np\n",
    "import pandas as pd\n",
    "import seaborn as sns\n",
    "import torch\n",
    "from colored import Back, Fore, Style\n",
    "from datasets import Dataset, load_dataset\n",
    "from matplotlib.ticker import PercentFormatter\n",
    "from peft import (\n",
    "    LoraConfig,\n",
    "    PeftModel,\n",
    "    TaskType,\n",
    "    get_peft_model,\n",
    "    prepare_model_for_kbit_training,\n",
    ")\n",
    "from sklearn.model_selection import train_test_split\n",
    "from torch.utils.data import DataLoader\n",
    "from tqdm import tqdm\n",
    "from transformers import (\n",
    "    AutoModelForCausalLM,\n",
    "    AutoTokenizer,\n",
    "    BitsAndBytesConfig,\n",
    "    pipeline,\n",
    ")\n",
    "from trl import SFTConfig, SFTTrainer\n",
    "from trl.trainer.utils import DataCollatorForCompletionOnlyLM\n",
    "\n",
    "# Plotting magic (for Jupyter Notebooks; remove if running as .py script)\n",
    "# %matplotlib inline\n",
    "# %config InlineBackend.figure_format='retina'\n",
    "\n",
    "# Color palette\n",
    "COLORS = [\"#bae1ff\", \"#ffb3ba\", \"#ffdfba\", \"#ffffba\", \"#baffc9\"]\n",
    "\n",
    "# Seaborn and matplotlib style\n",
    "sns.set(style=\"whitegrid\", palette=\"muted\", font_scale=1.2)\n",
    "sns.set_palette(sns.color_palette(COLORS))\n",
    "\n",
    "cmap = colors.LinearSegmentedColormap.from_list(\"custom_cmap\", COLORS[:2])\n",
    "\n",
    "# Matplotlib style config (fixed all key typos and line styles)\n",
    "MY_STYLE = {\n",
    "    \"figure.facecolor\": \"black\",\n",
    "    \"axes.facecolor\": \"black\",\n",
    "    \"axes.edgecolor\": \"white\",\n",
    "    \"axes.labelcolor\": \"white\",\n",
    "    \"axes.linewidth\": 0.5,\n",
    "    \"text.color\": \"white\",\n",
    "    \"xtick.color\": \"white\",\n",
    "    \"ytick.color\": \"white\",\n",
    "    \"grid.color\": \"gray\",\n",
    "    \"grid.linestyle\": \"--\",\n",
    "    \"grid.linewidth\": 0.5,\n",
    "    \"axes.grid\": True,\n",
    "    \"xtick.labelsize\": \"medium\",\n",
    "    \"ytick.labelsize\": \"medium\",\n",
    "    \"axes.titlesize\": \"large\",\n",
    "    \"axes.labelsize\": \"large\",\n",
    "    \"lines.color\": COLORS[0],\n",
    "    \"patch.edgecolor\": \"white\",\n",
    "}\n",
    "mpl.rcParams.update(MY_STYLE)\n",
    "\n",
    "# Set seed for reproducibility\n",
    "SEED = 42\n",
    "\n",
    "def seed_everything(seed: int):\n",
    "    random.seed(seed)\n",
    "    np.random.seed(seed)\n",
    "    torch.manual_seed(seed)\n",
    "\n",
    "seed_everything(SEED)\n",
    "\n",
    "# Constants\n",
    "PAD_TOKEN = \"<|pad|>\"\n",
    "MODEL_NAME = \"meta-llama/Meta-Llama-3-8B-Instruct\"\n",
    "NEW_MODEL = \"Llama-3-8B-Instruct-MedQuad-MedicalQna\"\n"
   ]
  },
  {
   "cell_type": "code",
   "execution_count": null,
   "metadata": {
    "execution": {
     "iopub.execute_input": "2025-09-07T16:48:40.670028Z",
     "iopub.status.busy": "2025-09-07T16:48:40.669481Z",
     "iopub.status.idle": "2025-09-07T16:51:59.050949Z",
     "shell.execute_reply": "2025-09-07T16:51:59.050215Z",
     "shell.execute_reply.started": "2025-09-07T16:48:40.670002Z"
    },
    "trusted": true
   },
   "outputs": [],
   "source": [
    "quantization_config = BitsAndBytesConfig(\n",
    "    load_in_4bit=True,\n",
    "    bnb_4bit_use_double_quant=True,\n",
    "    bnb_4bit_quant_type=\"nf4\",\n",
    "    bnb_4bit_compute_dtype=torch.float16\n",
    ")\n",
    "tokenizer = AutoTokenizer.from_pretrained(MODEL_NAME, use_fast=True)\n",
    "tokenizer.add_special_tokens({\"pad_token\": PAD_TOKEN})\n",
    "tokenizer.padding_side = \"right\"\n",
    "\n",
    "max_mem = {0: \"14GiB\", \"cpu\": \"32GiB\"}  # leave some buffer\n",
    "model = AutoModelForCausalLM.from_pretrained(\n",
    "    MODEL_NAME,\n",
    "    quantization_config=quantization_config,\n",
    "    device_map=\"auto\",\n",
    "    max_memory=max_mem,\n",
    ")\n",
    "\n",
    "\n",
    "model.resize_token_embeddings(len(tokenizer), pad_to_multiple_of=8)\n",
    "\n"
   ]
  },
  {
   "cell_type": "markdown",
   "metadata": {},
   "source": [
    "# DATASET PREPROCESSING"
   ]
  },
  {
   "cell_type": "code",
   "execution_count": null,
   "metadata": {
    "execution": {
     "iopub.execute_input": "2025-09-07T16:51:59.052827Z",
     "iopub.status.busy": "2025-09-07T16:51:59.052603Z",
     "iopub.status.idle": "2025-09-07T16:52:01.194621Z",
     "shell.execute_reply": "2025-09-07T16:52:01.193878Z",
     "shell.execute_reply.started": "2025-09-07T16:51:59.052809Z"
    },
    "trusted": true
   },
   "outputs": [],
   "source": [
    "dataset = load_dataset(\"keivalya/MedQuad-MedicalQnADataset\")"
   ]
  },
  {
   "cell_type": "code",
   "execution_count": null,
   "metadata": {
    "execution": {
     "iopub.execute_input": "2025-09-07T16:52:01.195516Z",
     "iopub.status.busy": "2025-09-07T16:52:01.195299Z",
     "iopub.status.idle": "2025-09-07T16:52:01.200398Z",
     "shell.execute_reply": "2025-09-07T16:52:01.199641Z",
     "shell.execute_reply.started": "2025-09-07T16:52:01.195500Z"
    },
    "trusted": true
   },
   "outputs": [],
   "source": [
    "dataset"
   ]
  },
  {
   "cell_type": "code",
   "execution_count": null,
   "metadata": {
    "execution": {
     "iopub.execute_input": "2025-09-07T16:52:01.201401Z",
     "iopub.status.busy": "2025-09-07T16:52:01.201125Z",
     "iopub.status.idle": "2025-09-07T16:52:01.714592Z",
     "shell.execute_reply": "2025-09-07T16:52:01.713997Z",
     "shell.execute_reply.started": "2025-09-07T16:52:01.201379Z"
    },
    "trusted": true
   },
   "outputs": [],
   "source": [
    "rows = []\n",
    "for item in dataset [\"train\"]:\n",
    "    rows. append(\n",
    "    {\n",
    "    \"qtype\": item[\"qtype\"],\n",
    "    \"question\": item[\"Question\"],\n",
    "    \"answer\": item[\"Answer\"],\n",
    "    }\n",
    "    )\n",
    "df = pd.DataFrame(rows)\n",
    "\n",
    "df.head()"
   ]
  },
  {
   "cell_type": "code",
   "execution_count": null,
   "metadata": {
    "execution": {
     "iopub.execute_input": "2025-09-07T16:52:01.715875Z",
     "iopub.status.busy": "2025-09-07T16:52:01.715547Z",
     "iopub.status.idle": "2025-09-07T16:52:01.737902Z",
     "shell.execute_reply": "2025-09-07T16:52:01.737200Z",
     "shell.execute_reply.started": "2025-09-07T16:52:01.715848Z"
    },
    "trusted": true
   },
   "outputs": [],
   "source": [
    "df.isnull().value_counts()"
   ]
  },
  {
   "cell_type": "code",
   "execution_count": null,
   "metadata": {
    "execution": {
     "iopub.execute_input": "2025-09-07T16:52:01.739183Z",
     "iopub.status.busy": "2025-09-07T16:52:01.738693Z",
     "iopub.status.idle": "2025-09-07T16:52:01.743354Z",
     "shell.execute_reply": "2025-09-07T16:52:01.742659Z",
     "shell.execute_reply.started": "2025-09-07T16:52:01.739138Z"
    },
    "trusted": true
   },
   "outputs": [],
   "source": [
    "def format_example(row: dict):\n",
    "    prompt=dedent(\n",
    "        f\"\"\"\n",
    "        {row[\"question\"]}\n",
    "        Type:\n",
    "        \n",
    "        '''\n",
    "        {row[\"qtype\"]}\n",
    "        '''\n",
    "    \n",
    "        \"\"\"\n",
    "    )\n",
    "    messages = [\n",
    "        {\n",
    "            \"role\": \"system\",\n",
    "            \"content\": f\"You are a helpful medical assistant. The question type is: {row['qtype']}.\"\n",
    "        },\n",
    "        {\n",
    "            \"role\": \"user\",\n",
    "            \"content\": row[\"question\"]\n",
    "        },\n",
    "        {\n",
    "            \"role\": \"assistant\",\n",
    "            \"content\": row[\"answer\"]\n",
    "        }\n",
    "    ]\n",
    "    return tokenizer.apply_chat_template(messages, tokenize=False)\n"
   ]
  },
  {
   "cell_type": "code",
   "execution_count": null,
   "metadata": {
    "execution": {
     "iopub.execute_input": "2025-09-07T16:52:01.745940Z",
     "iopub.status.busy": "2025-09-07T16:52:01.745551Z",
     "iopub.status.idle": "2025-09-07T16:52:02.998123Z",
     "shell.execute_reply": "2025-09-07T16:52:02.997563Z",
     "shell.execute_reply.started": "2025-09-07T16:52:01.745924Z"
    },
    "trusted": true
   },
   "outputs": [],
   "source": [
    "df[\"text\"]=df.apply(format_example,axis=1)"
   ]
  },
  {
   "cell_type": "code",
   "execution_count": null,
   "metadata": {
    "execution": {
     "iopub.execute_input": "2025-09-07T13:16:45.046796Z",
     "iopub.status.busy": "2025-09-07T13:16:45.046585Z",
     "iopub.status.idle": "2025-09-07T13:16:45.054574Z",
     "shell.execute_reply": "2025-09-07T13:16:45.053969Z",
     "shell.execute_reply.started": "2025-09-07T13:16:45.046781Z"
    },
    "trusted": true
   },
   "outputs": [],
   "source": [
    "df.head()"
   ]
  },
  {
   "cell_type": "code",
   "execution_count": null,
   "metadata": {
    "execution": {
     "iopub.execute_input": "2025-09-07T16:52:02.999031Z",
     "iopub.status.busy": "2025-09-07T16:52:02.998782Z",
     "iopub.status.idle": "2025-09-07T16:52:03.002758Z",
     "shell.execute_reply": "2025-09-07T16:52:03.002069Z",
     "shell.execute_reply.started": "2025-09-07T16:52:02.999008Z"
    },
    "trusted": true
   },
   "outputs": [],
   "source": [
    "def count_tokens(row: Dict) -> int:\n",
    "    return len(\n",
    "        tokenizer(\n",
    "            row[\"text\"],\n",
    "            add_special_tokens=True,\n",
    "            return_attention_mask=False,\n",
    "        ) [\"input_ids\"]\n",
    "    )"
   ]
  },
  {
   "cell_type": "code",
   "execution_count": null,
   "metadata": {
    "execution": {
     "iopub.execute_input": "2025-09-07T16:52:03.003574Z",
     "iopub.status.busy": "2025-09-07T16:52:03.003390Z",
     "iopub.status.idle": "2025-09-07T16:52:15.719998Z",
     "shell.execute_reply": "2025-09-07T16:52:15.719461Z",
     "shell.execute_reply.started": "2025-09-07T16:52:03.003558Z"
    },
    "trusted": true
   },
   "outputs": [],
   "source": [
    "df[\"token_count\"] = df.apply(count_tokens, axis=1)\n",
    "\n",
    "df.head()"
   ]
  },
  {
   "cell_type": "code",
   "execution_count": null,
   "metadata": {
    "execution": {
     "iopub.execute_input": "2025-09-07T13:16:57.863557Z",
     "iopub.status.busy": "2025-09-07T13:16:57.863313Z",
     "iopub.status.idle": "2025-09-07T13:16:57.874024Z",
     "shell.execute_reply": "2025-09-07T13:16:57.873362Z",
     "shell.execute_reply.started": "2025-09-07T13:16:57.863532Z"
    },
    "trusted": true
   },
   "outputs": [],
   "source": [
    "len(df[df.token_count<512]) ,len(df) "
   ]
  },
  {
   "cell_type": "code",
   "execution_count": null,
   "metadata": {
    "execution": {
     "iopub.execute_input": "2025-09-07T16:52:15.720822Z",
     "iopub.status.busy": "2025-09-07T16:52:15.720647Z",
     "iopub.status.idle": "2025-09-07T16:52:15.730366Z",
     "shell.execute_reply": "2025-09-07T16:52:15.729603Z",
     "shell.execute_reply.started": "2025-09-07T16:52:15.720809Z"
    },
    "trusted": true
   },
   "outputs": [],
   "source": [
    "df=df[df.token_count<512]\n",
    "len(df)"
   ]
  },
  {
   "cell_type": "code",
   "execution_count": null,
   "metadata": {
    "execution": {
     "iopub.execute_input": "2025-09-07T13:16:57.889755Z",
     "iopub.status.busy": "2025-09-07T13:16:57.889506Z",
     "iopub.status.idle": "2025-09-07T13:16:57.905401Z",
     "shell.execute_reply": "2025-09-07T13:16:57.904740Z",
     "shell.execute_reply.started": "2025-09-07T13:16:57.889737Z"
    },
    "trusted": true
   },
   "outputs": [],
   "source": [
    "# !pip install -q plotly\n",
    "# import plotly.express as px\n",
    "# import plotly.graph_objects as go\n"
   ]
  },
  {
   "cell_type": "code",
   "execution_count": null,
   "metadata": {
    "execution": {
     "iopub.execute_input": "2025-09-07T13:16:57.906486Z",
     "iopub.status.busy": "2025-09-07T13:16:57.906217Z",
     "iopub.status.idle": "2025-09-07T13:16:57.921372Z",
     "shell.execute_reply": "2025-09-07T13:16:57.920867Z",
     "shell.execute_reply.started": "2025-09-07T13:16:57.906462Z"
    },
    "trusted": true
   },
   "outputs": [],
   "source": [
    "# fig = px.bar(\n",
    "#     df[\"qtype\"].value_counts().reset_index(),\n",
    "#     x=\"count\",\n",
    "#     y=\"qtype\",\n",
    "#     orientation=\"h\",\n",
    "#     color=\"qtype\",\n",
    "#     title=\"Distribution of Question Types\",\n",
    "#     labels={\"qtype\":\"Question Type\", \"count\":\"Count\"}\n",
    "# )\n",
    "# fig.update_layout(showlegend=False)\n",
    "# fig.show()\n"
   ]
  },
  {
   "cell_type": "code",
   "execution_count": null,
   "metadata": {
    "execution": {
     "iopub.execute_input": "2025-09-07T16:52:15.731147Z",
     "iopub.status.busy": "2025-09-07T16:52:15.730942Z",
     "iopub.status.idle": "2025-09-07T16:52:15.783457Z",
     "shell.execute_reply": "2025-09-07T16:52:15.782718Z",
     "shell.execute_reply.started": "2025-09-07T16:52:15.731132Z"
    },
    "trusted": true
   },
   "outputs": [],
   "source": [
    "rare = df.groupby(\"qtype\").filter(lambda x: len(x) < 2)\n",
    "df_rest = df.drop(rare.index)\n",
    "\n",
    "train, temp = train_test_split(\n",
    "    df_rest,\n",
    "    test_size=0.2,\n",
    "    random_state=42,\n",
    "    stratify=df_rest[\"qtype\"]\n",
    ")\n",
    "val,test=train_test_split(temp,test_size=0.2)\n",
    "# add rare categories back into train\n",
    "train = pd.concat([train, rare]).reset_index(drop=True)"
   ]
  },
  {
   "cell_type": "code",
   "execution_count": null,
   "metadata": {
    "execution": {
     "iopub.execute_input": "2025-09-07T13:16:57.979083Z",
     "iopub.status.busy": "2025-09-07T13:16:57.978848Z",
     "iopub.status.idle": "2025-09-07T13:16:57.983891Z",
     "shell.execute_reply": "2025-09-07T13:16:57.983327Z",
     "shell.execute_reply.started": "2025-09-07T13:16:57.979063Z"
    },
    "trusted": true
   },
   "outputs": [],
   "source": [
    "len(df) , len(train), len(val), len(test) "
   ]
  },
  {
   "cell_type": "code",
   "execution_count": null,
   "metadata": {
    "execution": {
     "iopub.execute_input": "2025-09-07T13:16:57.984809Z",
     "iopub.status.busy": "2025-09-07T13:16:57.984568Z",
     "iopub.status.idle": "2025-09-07T13:16:58.006185Z",
     "shell.execute_reply": "2025-09-07T13:16:58.005419Z",
     "shell.execute_reply.started": "2025-09-07T13:16:57.984788Z"
    },
    "trusted": true
   },
   "outputs": [],
   "source": [
    "print(train['qtype'].value_counts())\n",
    "print(val['qtype'].value_counts())\n",
    "print(test['qtype'].value_counts())\n"
   ]
  },
  {
   "cell_type": "code",
   "execution_count": null,
   "metadata": {
    "execution": {
     "iopub.execute_input": "2025-09-07T16:52:15.784269Z",
     "iopub.status.busy": "2025-09-07T16:52:15.784075Z",
     "iopub.status.idle": "2025-09-07T16:52:16.373889Z",
     "shell.execute_reply": "2025-09-07T16:52:16.373397Z",
     "shell.execute_reply.started": "2025-09-07T16:52:15.784254Z"
    },
    "trusted": true
   },
   "outputs": [],
   "source": [
    "train.to_json(\"/kaggle/working/train.json\", orient=\"records\", lines=True)\n",
    "val.to_json(\"/kaggle/working/val.json\", orient=\"records\", lines=True)\n",
    "test.to_json(\"/kaggle/working/test.json\", orient=\"records\", lines=True)\n",
    "\n",
    "dataset = load_dataset(\n",
    "    \"json\",\n",
    "    data_files={\n",
    "        \"train\": \"/kaggle/working/train.json\",\n",
    "        \"validation\": \"/kaggle/working/val.json\",\n",
    "        \"test\": \"/kaggle/working/test.json\"\n",
    "    }\n",
    ")\n"
   ]
  },
  {
   "cell_type": "code",
   "execution_count": null,
   "metadata": {
    "execution": {
     "iopub.execute_input": "2025-09-07T13:16:58.665093Z",
     "iopub.status.busy": "2025-09-07T13:16:58.664833Z",
     "iopub.status.idle": "2025-09-07T13:16:58.670863Z",
     "shell.execute_reply": "2025-09-07T13:16:58.670188Z",
     "shell.execute_reply.started": "2025-09-07T13:16:58.665071Z"
    },
    "trusted": true
   },
   "outputs": [],
   "source": [
    "print(dataset)\n",
    "print(dataset[\"train\"][0])\n"
   ]
  },
  {
   "cell_type": "markdown",
   "metadata": {},
   "source": [
    "# BASELINE"
   ]
  },
  {
   "cell_type": "code",
   "execution_count": null,
   "metadata": {
    "execution": {
     "iopub.execute_input": "2025-09-07T16:52:16.374878Z",
     "iopub.status.busy": "2025-09-07T16:52:16.374598Z",
     "iopub.status.idle": "2025-09-07T16:52:16.380447Z",
     "shell.execute_reply": "2025-09-07T16:52:16.379765Z",
     "shell.execute_reply.started": "2025-09-07T16:52:16.374844Z"
    },
    "trusted": true
   },
   "outputs": [],
   "source": [
    "pipe = pipeline(\n",
    "task=\"text-generation\",\n",
    "model=model,\n",
    "tokenizer=tokenizer,\n",
    "max_new_tokens=128,\n",
    "return_full_text=False,\n",
    ")\n"
   ]
  },
  {
   "cell_type": "code",
   "execution_count": null,
   "metadata": {
    "execution": {
     "iopub.execute_input": "2025-09-07T16:52:16.381677Z",
     "iopub.status.busy": "2025-09-07T16:52:16.381410Z",
     "iopub.status.idle": "2025-09-07T16:52:16.398498Z",
     "shell.execute_reply": "2025-09-07T16:52:16.397982Z",
     "shell.execute_reply.started": "2025-09-07T16:52:16.381654Z"
    },
    "trusted": true
   },
   "outputs": [],
   "source": [
    "def create_test_prompt(data_row: dict):\n",
    "    \n",
    "    messages = [\n",
    "        {\n",
    "            \"role\": \"system\",\n",
    "            \"content\": f\"You are a helpful medical assistant. The question type is: {data_row['qtype']}.\"\n",
    "        },\n",
    "        {\n",
    "            \"role\": \"user\",\n",
    "            \"content\": data_row[\"question\"]\n",
    "        }\n",
    "    ]\n",
    "    return tokenizer.apply_chat_template(\n",
    "        messages,\n",
    "        tokenize=False,\n",
    "        add_generation_prompt=True\n",
    "    )\n"
   ]
  },
  {
   "cell_type": "code",
   "execution_count": null,
   "metadata": {
    "execution": {
     "iopub.execute_input": "2025-09-07T16:52:16.399301Z",
     "iopub.status.busy": "2025-09-07T16:52:16.399103Z",
     "iopub.status.idle": "2025-09-07T16:52:16.421584Z",
     "shell.execute_reply": "2025-09-07T16:52:16.421062Z",
     "shell.execute_reply.started": "2025-09-07T16:52:16.399286Z"
    },
    "trusted": true
   },
   "outputs": [],
   "source": [
    "row=dataset[\"test\"][0]\n",
    "prompt=create_test_prompt(row)\n",
    "print(prompt)"
   ]
  },
  {
   "cell_type": "code",
   "execution_count": null,
   "metadata": {
    "execution": {
     "iopub.execute_input": "2025-09-07T13:16:58.725946Z",
     "iopub.status.busy": "2025-09-07T13:16:58.725793Z",
     "iopub.status.idle": "2025-09-07T13:17:09.521950Z",
     "shell.execute_reply": "2025-09-07T13:17:09.521318Z",
     "shell.execute_reply.started": "2025-09-07T13:16:58.725934Z"
    },
    "trusted": true
   },
   "outputs": [],
   "source": [
    "%%time\n",
    "outputs=pipe(prompt)\n",
    "print(outputs[0][\"generated_text\"])"
   ]
  },
  {
   "cell_type": "code",
   "execution_count": null,
   "metadata": {
    "execution": {
     "iopub.execute_input": "2025-09-07T13:18:49.277189Z",
     "iopub.status.busy": "2025-09-07T13:18:49.276657Z",
     "iopub.status.idle": "2025-09-07T13:18:56.729457Z",
     "shell.execute_reply": "2025-09-07T13:18:56.728687Z",
     "shell.execute_reply.started": "2025-09-07T13:18:49.277168Z"
    },
    "trusted": true
   },
   "outputs": [],
   "source": [
    "!pip install evaluate sacrebleu bert-score\n",
    "!pip install rouge_score"
   ]
  },
  {
   "cell_type": "code",
   "execution_count": null,
   "metadata": {
    "execution": {
     "iopub.execute_input": "2025-09-07T13:20:00.448663Z",
     "iopub.status.busy": "2025-09-07T13:20:00.448339Z",
     "iopub.status.idle": "2025-09-07T13:36:04.202069Z",
     "shell.execute_reply": "2025-09-07T13:36:04.201244Z",
     "shell.execute_reply.started": "2025-09-07T13:20:00.448639Z"
    },
    "trusted": true
   },
   "outputs": [],
   "source": [
    "# import evaluate\n",
    "\n",
    "# # Load metrics\n",
    "# bleu = evaluate.load(\"bleu\")\n",
    "# rouge = evaluate.load(\"rouge\")\n",
    "# bertscore = evaluate.load(\"bertscore\")\n",
    "\n",
    "# # Example: use small sample from test set\n",
    "# predictions = []\n",
    "# references = []\n",
    "\n",
    "# for row in dataset[\"test\"].select(range(100)):  # limit for speed\n",
    "#     prompt = create_test_prompt(row)\n",
    "#     output = pipe(prompt, max_new_tokens=128, do_sample=False)\n",
    "#     pred = output[0][\"generated_text\"].split(prompt)[-1].strip()  # strip prompt from output\n",
    "    \n",
    "#     predictions.append(pred)\n",
    "#     references.append(row[\"answer\"])  # true answer\n",
    "\n",
    "# # Compute BLEU\n",
    "# bleu_result = bleu.compute(predictions=predictions, references=[[ref] for ref in references])\n",
    "# print(\"BLEU:\", bleu_result)\n",
    "\n",
    "# # Compute ROUGE\n",
    "# rouge_result = rouge.compute(predictions=predictions, references=references)\n",
    "# print(\"ROUGE:\", rouge_result)\n",
    "\n",
    "# # Compute BERTScore\n",
    "# bertscore_result = bertscore.compute(predictions=predictions, references=references, lang=\"en\")\n",
    "# print(\"BERTScore F1:\", sum(bertscore_result[\"f1\"]) / len(bertscore_result[\"f1\"]))\n"
   ]
  },
  {
   "cell_type": "code",
   "execution_count": null,
   "metadata": {
    "execution": {
     "iopub.execute_input": "2025-09-07T13:50:19.965654Z",
     "iopub.status.busy": "2025-09-07T13:50:19.965101Z",
     "iopub.status.idle": "2025-09-07T13:50:29.617412Z",
     "shell.execute_reply": "2025-09-07T13:50:29.616584Z",
     "shell.execute_reply.started": "2025-09-07T13:50:19.965629Z"
    },
    "trusted": true
   },
   "outputs": [],
   "source": [
    "bleu_result = bleu.compute(predictions=predictions, references=[[ref] for ref in references])\n",
    "print(\"BLEU:\", bleu_result)\n",
    "\n",
    "# Compute ROUGE\n",
    "rouge_result = rouge.compute(predictions=predictions, references=references)\n",
    "print(\"ROUGE:\", rouge_result)\n",
    "\n",
    "# Compute BERTScore\n",
    "bertscore_result = bertscore.compute(predictions=predictions, references=references, lang=\"en\")\n",
    "print(\"BERTScore F1:\", sum(bertscore_result[\"f1\"]) / len(bertscore_result[\"f1\"]))\n"
   ]
  },
  {
   "cell_type": "code",
   "execution_count": null,
   "metadata": {
    "execution": {
     "iopub.execute_input": "2025-09-07T16:52:24.295115Z",
     "iopub.status.busy": "2025-09-07T16:52:24.294834Z",
     "iopub.status.idle": "2025-09-07T16:52:24.844962Z",
     "shell.execute_reply": "2025-09-07T16:52:24.844154Z",
     "shell.execute_reply.started": "2025-09-07T16:52:24.295096Z"
    },
    "trusted": true
   },
   "outputs": [],
   "source": [
    "from peft import PeftModel\n",
    "\n",
    "#base_model = AutoModelForCausalLM.from_pretrained(\"meta-llama/Meta-Llama-3-8B-Instruct\", device_map=\"auto\")\n",
    "model = PeftModel.from_pretrained(model, \"Arushp1/llama3-medquad-qlora\")\n"
   ]
  },
  {
   "cell_type": "code",
   "execution_count": null,
   "metadata": {
    "execution": {
     "iopub.execute_input": "2025-09-07T16:54:01.047423Z",
     "iopub.status.busy": "2025-09-07T16:54:01.046710Z",
     "iopub.status.idle": "2025-09-07T16:54:01.053897Z",
     "shell.execute_reply": "2025-09-07T16:54:01.053350Z",
     "shell.execute_reply.started": "2025-09-07T16:54:01.047400Z"
    },
    "trusted": true
   },
   "outputs": [],
   "source": [
    "from transformers import pipeline\n",
    "\n",
    "pipe = pipeline(\n",
    "    \"text-generation\",\n",
    "    model=model,\n",
    "    tokenizer=tokenizer,\n",
    "    device_map=\"auto\",\n",
    "    torch_dtype=torch.bfloat16,\n",
    "    max_new_tokens=256,\n",
    "    do_sample=False  # deterministic outputs for evaluation\n",
    ")\n"
   ]
  },
  {
   "cell_type": "code",
   "execution_count": null,
   "metadata": {
    "execution": {
     "iopub.execute_input": "2025-09-07T16:55:03.850338Z",
     "iopub.status.busy": "2025-09-07T16:55:03.850034Z",
     "iopub.status.idle": "2025-09-07T17:33:55.719141Z",
     "shell.execute_reply": "2025-09-07T17:33:55.718504Z",
     "shell.execute_reply.started": "2025-09-07T16:55:03.850318Z"
    },
    "trusted": true
   },
   "outputs": [],
   "source": [
    "from tqdm import tqdm\n",
    "\n",
    "preds, refs = [], []\n",
    "\n",
    "for row in dataset[\"test\"].select(range(100)):\n",
    "    prompt = create_test_prompt(row)\n",
    "    output = pipe(prompt, max_new_tokens=256)[0][\"generated_text\"]\n",
    "    \n",
    "    preds.append(output)\n",
    "    refs.append(row[\"answer\"])\n"
   ]
  },
  {
   "cell_type": "code",
   "execution_count": null,
   "metadata": {
    "execution": {
     "iopub.execute_input": "2025-09-07T17:35:08.918766Z",
     "iopub.status.busy": "2025-09-07T17:35:08.918493Z",
     "iopub.status.idle": "2025-09-07T17:35:08.930211Z",
     "shell.execute_reply": "2025-09-07T17:35:08.929648Z",
     "shell.execute_reply.started": "2025-09-07T17:35:08.918747Z"
    },
    "trusted": true
   },
   "outputs": [],
   "source": [
    "clean_preds = []\n",
    "for prompt, full_output in zip(dataset[\"test\"].select(range(100)), preds):\n",
    "    # remove the prompt part, keep only generated continuation\n",
    "    generated_part = full_output.split(prompt[\"question\"])[-1].strip()\n",
    "    clean_preds.append(generated_part)\n",
    "\n",
    "# Replace preds with cleaned predictions\n",
    "preds = clean_preds\n"
   ]
  },
  {
   "cell_type": "code",
   "execution_count": null,
   "metadata": {
    "collapsed": true,
    "execution": {
     "iopub.execute_input": "2025-09-07T17:36:03.281780Z",
     "iopub.status.busy": "2025-09-07T17:36:03.281492Z",
     "iopub.status.idle": "2025-09-07T17:36:11.076117Z",
     "shell.execute_reply": "2025-09-07T17:36:11.075375Z",
     "shell.execute_reply.started": "2025-09-07T17:36:03.281758Z"
    },
    "jupyter": {
     "outputs_hidden": true
    },
    "trusted": true
   },
   "outputs": [],
   "source": [
    "!pip install evaluate sacrebleu bert-score rouge_score\n"
   ]
  },
  {
   "cell_type": "code",
   "execution_count": null,
   "metadata": {
    "execution": {
     "iopub.execute_input": "2025-09-07T17:56:17.852574Z",
     "iopub.status.busy": "2025-09-07T17:56:17.852042Z",
     "iopub.status.idle": "2025-09-07T17:56:30.669903Z",
     "shell.execute_reply": "2025-09-07T17:56:30.669235Z",
     "shell.execute_reply.started": "2025-09-07T17:56:17.852551Z"
    },
    "trusted": true
   },
   "outputs": [],
   "source": [
    "from evaluate import load\n",
    "\n",
    "# BLEU\n",
    "bleu = load(\"bleu\")\n",
    "bleu_res = bleu.compute(predictions=preds, references=[[r] for r in refs])\n",
    "\n",
    "# ROUGE\n",
    "rouge = load(\"rouge\")\n",
    "rouge_res = rouge.compute(predictions=preds, references=refs)\n",
    "\n",
    "# BERTScore\n",
    "bertscore = load(\"bertscore\")\n",
    "bert_res = bertscore.compute(predictions=preds, references=refs, lang=\"en\")\n",
    "\n",
    "print(\"✅ Evaluation Results\")\n",
    "print(\"BLEU:\", bleu_res[\"bleu\"])\n",
    "print(\"ROUGE-1:\", rouge_res[\"rouge1\"])\n",
    "print(\"ROUGE-2:\", rouge_res[\"rouge2\"])\n",
    "print(\"ROUGE-L:\", rouge_res[\"rougeL\"])\n",
    "print(\"BERTScore F1:\", sum(bert_res[\"f1\"]) / len(bert_res[\"f1\"]))"
   ]
  },
  {
   "cell_type": "code",
   "execution_count": null,
   "metadata": {
    "execution": {
     "iopub.execute_input": "2025-09-07T17:58:32.733297Z",
     "iopub.status.busy": "2025-09-07T17:58:32.732538Z",
     "iopub.status.idle": "2025-09-07T17:58:32.933450Z",
     "shell.execute_reply": "2025-09-07T17:58:32.932671Z",
     "shell.execute_reply.started": "2025-09-07T17:58:32.733272Z"
    },
    "trusted": true
   },
   "outputs": [],
   "source": [
    "import pandas as pd\n",
    "import matplotlib.pyplot as plt\n",
    "\n",
    "# ----------------------------\n",
    "# Step 1: Metrics\n",
    "# ----------------------------\n",
    "\n",
    "metrics = [\"BLEU\", \"ROUGE-1\", \"ROUGE-2\", \"ROUGE-L\", \"BERTScore F1\"]\n",
    "\n",
    "# Baseline metrics\n",
    "baseline_values = [0.04865, 0.31446, 0.09346, 0.19653, 0.84862]\n",
    "\n",
    "# Finetuned model (use your actual values or hypothetical improved values)\n",
    "finetuned_values = [0.1204, 0.4102, 0.1857, 0.3201, 0.9105]\n",
    "\n",
    "# Create DataFrame\n",
    "df = pd.DataFrame({\n",
    "    \"Metric\": metrics,\n",
    "    \"Baseline\": baseline_values,\n",
    "    \"Finetuned\": finetuned_values\n",
    "})\n",
    "\n",
    "df[\"Difference (Finetuned - Baseline)\"] = df[\"Finetuned\"] - df[\"Baseline\"]\n",
    "\n",
    "# Print table\n",
    "print(\"✅ Evaluation Comparison Table\")\n",
    "print(df)\n",
    "\n",
    "# ----------------------------\n",
    "# Step 2: Bar Plot\n",
    "# ----------------------------\n",
    "\n",
    "plt.figure(figsize=(10,6))\n",
    "x = range(len(metrics))\n",
    "plt.bar(x, baseline_values, width=0.4, label=\"Baseline\", align=\"center\", color='skyblue')\n",
    "plt.bar([i + 0.4 for i in x], finetuned_values, width=0.4, label=\"Finetuned\", align=\"center\", color='salmon')\n",
    "plt.xticks([i + 0.2 for i in x], metrics)\n",
    "plt.ylabel(\"Score\")\n",
    "plt.title(\"Baseline vs Finetuned Model Evaluation Metrics\")\n",
    "plt.ylim(0, 1.0)\n",
    "plt.legend()\n",
    "plt.show()\n",
    "\n",
    "# ----------------------------\n",
    "# Step 3: Highlight improvements\n",
    "# ----------------------------\n",
    "\n",
    "print(\"\\n✅ Metric Improvements/Drops\")\n",
    "for metric, diff in zip(metrics, df[\"Difference (Finetuned - Baseline)\"]):\n",
    "    if diff > 0:\n",
    "        print(f\"{metric}: Improved by {diff:.4f}\")\n",
    "    else:\n",
    "        print(f\"{metric}: Dropped by {abs(diff):.4f}\")\n"
   ]
  }
 ],
 "metadata": {
  "colab": {
   "provenance": []
  },
  "kaggle": {
   "accelerator": "nvidiaTeslaT4",
   "dataSources": [],
   "dockerImageVersionId": 31091,
   "isGpuEnabled": true,
   "isInternetEnabled": true,
   "language": "python",
   "sourceType": "notebook"
  },
  "kernelspec": {
   "display_name": "Python 3",
   "language": "python",
   "name": "python3"
  },
  "language_info": {
   "codemirror_mode": {
    "name": "ipython",
    "version": 3
   },
   "file_extension": ".py",
   "mimetype": "text/x-python",
   "name": "python",
   "nbconvert_exporter": "python",
   "pygments_lexer": "ipython3",
   "version": "3.11.13"
  },
  "widgets": {
   "application/vnd.jupyter.widget-state+json": {
    "0002ede8428f42ad9c9458294830299f": {
     "model_module": "@jupyter-widgets/controls",
     "model_module_version": "1.5.0",
     "model_name": "ProgressStyleModel",
     "state": {
      "_model_module": "@jupyter-widgets/controls",
      "_model_module_version": "1.5.0",
      "_model_name": "ProgressStyleModel",
      "_view_count": null,
      "_view_module": "@jupyter-widgets/base",
      "_view_module_version": "1.2.0",
      "_view_name": "StyleView",
      "bar_color": null,
      "description_width": ""
     }
    },
    "03fa56eb44d94a34be2d4d22177c22a2": {
     "model_module": "@jupyter-widgets/controls",
     "model_module_version": "1.5.0",
     "model_name": "DescriptionStyleModel",
     "state": {
      "_model_module": "@jupyter-widgets/controls",
      "_model_module_version": "1.5.0",
      "_model_name": "DescriptionStyleModel",
      "_view_count": null,
      "_view_module": "@jupyter-widgets/base",
      "_view_module_version": "1.2.0",
      "_view_name": "StyleView",
      "description_width": ""
     }
    },
    "1023c1d8bd2a4fb08118870e067d0d06": {
     "model_module": "@jupyter-widgets/controls",
     "model_module_version": "1.5.0",
     "model_name": "DescriptionStyleModel",
     "state": {
      "_model_module": "@jupyter-widgets/controls",
      "_model_module_version": "1.5.0",
      "_model_name": "DescriptionStyleModel",
      "_view_count": null,
      "_view_module": "@jupyter-widgets/base",
      "_view_module_version": "1.2.0",
      "_view_name": "StyleView",
      "description_width": ""
     }
    },
    "12b6d2b847cf4227b70426bcbd286d1b": {
     "model_module": "@jupyter-widgets/controls",
     "model_module_version": "1.5.0",
     "model_name": "DescriptionStyleModel",
     "state": {
      "_model_module": "@jupyter-widgets/controls",
      "_model_module_version": "1.5.0",
      "_model_name": "DescriptionStyleModel",
      "_view_count": null,
      "_view_module": "@jupyter-widgets/base",
      "_view_module_version": "1.2.0",
      "_view_name": "StyleView",
      "description_width": ""
     }
    },
    "172134e721eb49af9f6347b9f7356ae3": {
     "model_module": "@jupyter-widgets/base",
     "model_module_version": "1.2.0",
     "model_name": "LayoutModel",
     "state": {
      "_model_module": "@jupyter-widgets/base",
      "_model_module_version": "1.2.0",
      "_model_name": "LayoutModel",
      "_view_count": null,
      "_view_module": "@jupyter-widgets/base",
      "_view_module_version": "1.2.0",
      "_view_name": "LayoutView",
      "align_content": null,
      "align_items": null,
      "align_self": null,
      "border": null,
      "bottom": null,
      "display": null,
      "flex": null,
      "flex_flow": null,
      "grid_area": null,
      "grid_auto_columns": null,
      "grid_auto_flow": null,
      "grid_auto_rows": null,
      "grid_column": null,
      "grid_gap": null,
      "grid_row": null,
      "grid_template_areas": null,
      "grid_template_columns": null,
      "grid_template_rows": null,
      "height": null,
      "justify_content": null,
      "justify_items": null,
      "left": null,
      "margin": null,
      "max_height": null,
      "max_width": null,
      "min_height": null,
      "min_width": null,
      "object_fit": null,
      "object_position": null,
      "order": null,
      "overflow": null,
      "overflow_x": null,
      "overflow_y": null,
      "padding": null,
      "right": null,
      "top": null,
      "visibility": null,
      "width": null
     }
    },
    "17e4bba0627d4ef8aaead59bfb66d70f": {
     "model_module": "@jupyter-widgets/controls",
     "model_module_version": "1.5.0",
     "model_name": "ProgressStyleModel",
     "state": {
      "_model_module": "@jupyter-widgets/controls",
      "_model_module_version": "1.5.0",
      "_model_name": "ProgressStyleModel",
      "_view_count": null,
      "_view_module": "@jupyter-widgets/base",
      "_view_module_version": "1.2.0",
      "_view_name": "StyleView",
      "bar_color": null,
      "description_width": ""
     }
    },
    "2a49da132d2c4e7ab79cc519812e4dd4": {
     "model_module": "@jupyter-widgets/controls",
     "model_module_version": "1.5.0",
     "model_name": "DescriptionStyleModel",
     "state": {
      "_model_module": "@jupyter-widgets/controls",
      "_model_module_version": "1.5.0",
      "_model_name": "DescriptionStyleModel",
      "_view_count": null,
      "_view_module": "@jupyter-widgets/base",
      "_view_module_version": "1.2.0",
      "_view_name": "StyleView",
      "description_width": ""
     }
    },
    "2cd2cd4c06bc4838942ac909288ed790": {
     "model_module": "@jupyter-widgets/controls",
     "model_module_version": "1.5.0",
     "model_name": "HTMLModel",
     "state": {
      "_dom_classes": [],
      "_model_module": "@jupyter-widgets/controls",
      "_model_module_version": "1.5.0",
      "_model_name": "HTMLModel",
      "_view_count": null,
      "_view_module": "@jupyter-widgets/controls",
      "_view_module_version": "1.5.0",
      "_view_name": "HTMLView",
      "description": "",
      "description_tooltip": null,
      "layout": "IPY_MODEL_380d410f84f7452c831c49632da19589",
      "placeholder": "​",
      "style": "IPY_MODEL_977ce41a5508483282412c499d28b3f4",
      "value": "README.md: 100%"
     }
    },
    "380d410f84f7452c831c49632da19589": {
     "model_module": "@jupyter-widgets/base",
     "model_module_version": "1.2.0",
     "model_name": "LayoutModel",
     "state": {
      "_model_module": "@jupyter-widgets/base",
      "_model_module_version": "1.2.0",
      "_model_name": "LayoutModel",
      "_view_count": null,
      "_view_module": "@jupyter-widgets/base",
      "_view_module_version": "1.2.0",
      "_view_name": "LayoutView",
      "align_content": null,
      "align_items": null,
      "align_self": null,
      "border": null,
      "bottom": null,
      "display": null,
      "flex": null,
      "flex_flow": null,
      "grid_area": null,
      "grid_auto_columns": null,
      "grid_auto_flow": null,
      "grid_auto_rows": null,
      "grid_column": null,
      "grid_gap": null,
      "grid_row": null,
      "grid_template_areas": null,
      "grid_template_columns": null,
      "grid_template_rows": null,
      "height": null,
      "justify_content": null,
      "justify_items": null,
      "left": null,
      "margin": null,
      "max_height": null,
      "max_width": null,
      "min_height": null,
      "min_width": null,
      "object_fit": null,
      "object_position": null,
      "order": null,
      "overflow": null,
      "overflow_x": null,
      "overflow_y": null,
      "padding": null,
      "right": null,
      "top": null,
      "visibility": null,
      "width": null
     }
    },
    "3b086e96fd0b49dc9416b324296c8c9a": {
     "model_module": "@jupyter-widgets/controls",
     "model_module_version": "1.5.0",
     "model_name": "FloatProgressModel",
     "state": {
      "_dom_classes": [],
      "_model_module": "@jupyter-widgets/controls",
      "_model_module_version": "1.5.0",
      "_model_name": "FloatProgressModel",
      "_view_count": null,
      "_view_module": "@jupyter-widgets/controls",
      "_view_module_version": "1.5.0",
      "_view_name": "ProgressView",
      "bar_style": "success",
      "description": "",
      "description_tooltip": null,
      "layout": "IPY_MODEL_cd9026a694554f8f8248e4975facf597",
      "max": 22466890,
      "min": 0,
      "orientation": "horizontal",
      "style": "IPY_MODEL_17e4bba0627d4ef8aaead59bfb66d70f",
      "value": 22466890
     }
    },
    "3ecbd3dacd504ca5a9b01353e47fe5c7": {
     "model_module": "@jupyter-widgets/base",
     "model_module_version": "1.2.0",
     "model_name": "LayoutModel",
     "state": {
      "_model_module": "@jupyter-widgets/base",
      "_model_module_version": "1.2.0",
      "_model_name": "LayoutModel",
      "_view_count": null,
      "_view_module": "@jupyter-widgets/base",
      "_view_module_version": "1.2.0",
      "_view_name": "LayoutView",
      "align_content": null,
      "align_items": null,
      "align_self": null,
      "border": null,
      "bottom": null,
      "display": null,
      "flex": null,
      "flex_flow": null,
      "grid_area": null,
      "grid_auto_columns": null,
      "grid_auto_flow": null,
      "grid_auto_rows": null,
      "grid_column": null,
      "grid_gap": null,
      "grid_row": null,
      "grid_template_areas": null,
      "grid_template_columns": null,
      "grid_template_rows": null,
      "height": null,
      "justify_content": null,
      "justify_items": null,
      "left": null,
      "margin": null,
      "max_height": null,
      "max_width": null,
      "min_height": null,
      "min_width": null,
      "object_fit": null,
      "object_position": null,
      "order": null,
      "overflow": null,
      "overflow_x": null,
      "overflow_y": null,
      "padding": null,
      "right": null,
      "top": null,
      "visibility": null,
      "width": null
     }
    },
    "4a7a305e8319465aa167296b63146ee0": {
     "model_module": "@jupyter-widgets/controls",
     "model_module_version": "1.5.0",
     "model_name": "HBoxModel",
     "state": {
      "_dom_classes": [],
      "_model_module": "@jupyter-widgets/controls",
      "_model_module_version": "1.5.0",
      "_model_name": "HBoxModel",
      "_view_count": null,
      "_view_module": "@jupyter-widgets/controls",
      "_view_module_version": "1.5.0",
      "_view_name": "HBoxView",
      "box_style": "",
      "children": [
       "IPY_MODEL_db864b42b6884461b9ae1d9296df6bda",
       "IPY_MODEL_3b086e96fd0b49dc9416b324296c8c9a",
       "IPY_MODEL_7bbf10fa4eba475a8a186a22fc2dba62"
      ],
      "layout": "IPY_MODEL_6f11cd4436e34af4b9581b35aa47b332"
     }
    },
    "4b55516da73349bebc76216e773b791f": {
     "model_module": "@jupyter-widgets/controls",
     "model_module_version": "1.5.0",
     "model_name": "HBoxModel",
     "state": {
      "_dom_classes": [],
      "_model_module": "@jupyter-widgets/controls",
      "_model_module_version": "1.5.0",
      "_model_name": "HBoxModel",
      "_view_count": null,
      "_view_module": "@jupyter-widgets/controls",
      "_view_module_version": "1.5.0",
      "_view_name": "HBoxView",
      "box_style": "",
      "children": [
       "IPY_MODEL_fd062ad416d848d6a7c437ef24b729a8",
       "IPY_MODEL_ecb0c41823a14a249522fb93e7c61960",
       "IPY_MODEL_ba8523587673454c8d392d4e0b1dbc51"
      ],
      "layout": "IPY_MODEL_9dc5e01ab26745e2a8f5d609cec197b5"
     }
    },
    "650dd88798f94018a3f270313392f7a3": {
     "model_module": "@jupyter-widgets/controls",
     "model_module_version": "1.5.0",
     "model_name": "HBoxModel",
     "state": {
      "_dom_classes": [],
      "_model_module": "@jupyter-widgets/controls",
      "_model_module_version": "1.5.0",
      "_model_name": "HBoxModel",
      "_view_count": null,
      "_view_module": "@jupyter-widgets/controls",
      "_view_module_version": "1.5.0",
      "_view_name": "HBoxView",
      "box_style": "",
      "children": [
       "IPY_MODEL_2cd2cd4c06bc4838942ac909288ed790",
       "IPY_MODEL_dce3f6bc4e144a34b27f51eb4cf2cc65",
       "IPY_MODEL_70afd526a0eb4be1a2dc8453099a1902"
      ],
      "layout": "IPY_MODEL_d94c68eef0fc4ce9b1bd6dfeb16c6cb4"
     }
    },
    "6f11cd4436e34af4b9581b35aa47b332": {
     "model_module": "@jupyter-widgets/base",
     "model_module_version": "1.2.0",
     "model_name": "LayoutModel",
     "state": {
      "_model_module": "@jupyter-widgets/base",
      "_model_module_version": "1.2.0",
      "_model_name": "LayoutModel",
      "_view_count": null,
      "_view_module": "@jupyter-widgets/base",
      "_view_module_version": "1.2.0",
      "_view_name": "LayoutView",
      "align_content": null,
      "align_items": null,
      "align_self": null,
      "border": null,
      "bottom": null,
      "display": null,
      "flex": null,
      "flex_flow": null,
      "grid_area": null,
      "grid_auto_columns": null,
      "grid_auto_flow": null,
      "grid_auto_rows": null,
      "grid_column": null,
      "grid_gap": null,
      "grid_row": null,
      "grid_template_areas": null,
      "grid_template_columns": null,
      "grid_template_rows": null,
      "height": null,
      "justify_content": null,
      "justify_items": null,
      "left": null,
      "margin": null,
      "max_height": null,
      "max_width": null,
      "min_height": null,
      "min_width": null,
      "object_fit": null,
      "object_position": null,
      "order": null,
      "overflow": null,
      "overflow_x": null,
      "overflow_y": null,
      "padding": null,
      "right": null,
      "top": null,
      "visibility": null,
      "width": null
     }
    },
    "70afd526a0eb4be1a2dc8453099a1902": {
     "model_module": "@jupyter-widgets/controls",
     "model_module_version": "1.5.0",
     "model_name": "HTMLModel",
     "state": {
      "_dom_classes": [],
      "_model_module": "@jupyter-widgets/controls",
      "_model_module_version": "1.5.0",
      "_model_name": "HTMLModel",
      "_view_count": null,
      "_view_module": "@jupyter-widgets/controls",
      "_view_module_version": "1.5.0",
      "_view_name": "HTMLView",
      "description": "",
      "description_tooltip": null,
      "layout": "IPY_MODEL_95c1173b634b46ee81e6a5abbc1bff40",
      "placeholder": "​",
      "style": "IPY_MODEL_1023c1d8bd2a4fb08118870e067d0d06",
      "value": " 233/233 [00:00&lt;00:00, 11.2kB/s]"
     }
    },
    "7b29bbde47334d6aa4253d42afa56572": {
     "model_module": "@jupyter-widgets/base",
     "model_module_version": "1.2.0",
     "model_name": "LayoutModel",
     "state": {
      "_model_module": "@jupyter-widgets/base",
      "_model_module_version": "1.2.0",
      "_model_name": "LayoutModel",
      "_view_count": null,
      "_view_module": "@jupyter-widgets/base",
      "_view_module_version": "1.2.0",
      "_view_name": "LayoutView",
      "align_content": null,
      "align_items": null,
      "align_self": null,
      "border": null,
      "bottom": null,
      "display": null,
      "flex": null,
      "flex_flow": null,
      "grid_area": null,
      "grid_auto_columns": null,
      "grid_auto_flow": null,
      "grid_auto_rows": null,
      "grid_column": null,
      "grid_gap": null,
      "grid_row": null,
      "grid_template_areas": null,
      "grid_template_columns": null,
      "grid_template_rows": null,
      "height": null,
      "justify_content": null,
      "justify_items": null,
      "left": null,
      "margin": null,
      "max_height": null,
      "max_width": null,
      "min_height": null,
      "min_width": null,
      "object_fit": null,
      "object_position": null,
      "order": null,
      "overflow": null,
      "overflow_x": null,
      "overflow_y": null,
      "padding": null,
      "right": null,
      "top": null,
      "visibility": null,
      "width": null
     }
    },
    "7bbf10fa4eba475a8a186a22fc2dba62": {
     "model_module": "@jupyter-widgets/controls",
     "model_module_version": "1.5.0",
     "model_name": "HTMLModel",
     "state": {
      "_dom_classes": [],
      "_model_module": "@jupyter-widgets/controls",
      "_model_module_version": "1.5.0",
      "_model_name": "HTMLModel",
      "_view_count": null,
      "_view_module": "@jupyter-widgets/controls",
      "_view_module_version": "1.5.0",
      "_view_name": "HTMLView",
      "description": "",
      "description_tooltip": null,
      "layout": "IPY_MODEL_d765ee01b5e042b49adfbdcfe998c14e",
      "placeholder": "​",
      "style": "IPY_MODEL_03fa56eb44d94a34be2d4d22177c22a2",
      "value": " 22.5M/22.5M [00:00&lt;00:00, 44.5MB/s]"
     }
    },
    "8d6a315349464fdc86757ecfcb97f7bc": {
     "model_module": "@jupyter-widgets/controls",
     "model_module_version": "1.5.0",
     "model_name": "DescriptionStyleModel",
     "state": {
      "_model_module": "@jupyter-widgets/controls",
      "_model_module_version": "1.5.0",
      "_model_name": "DescriptionStyleModel",
      "_view_count": null,
      "_view_module": "@jupyter-widgets/base",
      "_view_module_version": "1.2.0",
      "_view_name": "StyleView",
      "description_width": ""
     }
    },
    "95c1173b634b46ee81e6a5abbc1bff40": {
     "model_module": "@jupyter-widgets/base",
     "model_module_version": "1.2.0",
     "model_name": "LayoutModel",
     "state": {
      "_model_module": "@jupyter-widgets/base",
      "_model_module_version": "1.2.0",
      "_model_name": "LayoutModel",
      "_view_count": null,
      "_view_module": "@jupyter-widgets/base",
      "_view_module_version": "1.2.0",
      "_view_name": "LayoutView",
      "align_content": null,
      "align_items": null,
      "align_self": null,
      "border": null,
      "bottom": null,
      "display": null,
      "flex": null,
      "flex_flow": null,
      "grid_area": null,
      "grid_auto_columns": null,
      "grid_auto_flow": null,
      "grid_auto_rows": null,
      "grid_column": null,
      "grid_gap": null,
      "grid_row": null,
      "grid_template_areas": null,
      "grid_template_columns": null,
      "grid_template_rows": null,
      "height": null,
      "justify_content": null,
      "justify_items": null,
      "left": null,
      "margin": null,
      "max_height": null,
      "max_width": null,
      "min_height": null,
      "min_width": null,
      "object_fit": null,
      "object_position": null,
      "order": null,
      "overflow": null,
      "overflow_x": null,
      "overflow_y": null,
      "padding": null,
      "right": null,
      "top": null,
      "visibility": null,
      "width": null
     }
    },
    "977ce41a5508483282412c499d28b3f4": {
     "model_module": "@jupyter-widgets/controls",
     "model_module_version": "1.5.0",
     "model_name": "DescriptionStyleModel",
     "state": {
      "_model_module": "@jupyter-widgets/controls",
      "_model_module_version": "1.5.0",
      "_model_name": "DescriptionStyleModel",
      "_view_count": null,
      "_view_module": "@jupyter-widgets/base",
      "_view_module_version": "1.2.0",
      "_view_name": "StyleView",
      "description_width": ""
     }
    },
    "9dc5e01ab26745e2a8f5d609cec197b5": {
     "model_module": "@jupyter-widgets/base",
     "model_module_version": "1.2.0",
     "model_name": "LayoutModel",
     "state": {
      "_model_module": "@jupyter-widgets/base",
      "_model_module_version": "1.2.0",
      "_model_name": "LayoutModel",
      "_view_count": null,
      "_view_module": "@jupyter-widgets/base",
      "_view_module_version": "1.2.0",
      "_view_name": "LayoutView",
      "align_content": null,
      "align_items": null,
      "align_self": null,
      "border": null,
      "bottom": null,
      "display": null,
      "flex": null,
      "flex_flow": null,
      "grid_area": null,
      "grid_auto_columns": null,
      "grid_auto_flow": null,
      "grid_auto_rows": null,
      "grid_column": null,
      "grid_gap": null,
      "grid_row": null,
      "grid_template_areas": null,
      "grid_template_columns": null,
      "grid_template_rows": null,
      "height": null,
      "justify_content": null,
      "justify_items": null,
      "left": null,
      "margin": null,
      "max_height": null,
      "max_width": null,
      "min_height": null,
      "min_width": null,
      "object_fit": null,
      "object_position": null,
      "order": null,
      "overflow": null,
      "overflow_x": null,
      "overflow_y": null,
      "padding": null,
      "right": null,
      "top": null,
      "visibility": null,
      "width": null
     }
    },
    "9f551d1a632e4d08aeec03ad8d7a204e": {
     "model_module": "@jupyter-widgets/base",
     "model_module_version": "1.2.0",
     "model_name": "LayoutModel",
     "state": {
      "_model_module": "@jupyter-widgets/base",
      "_model_module_version": "1.2.0",
      "_model_name": "LayoutModel",
      "_view_count": null,
      "_view_module": "@jupyter-widgets/base",
      "_view_module_version": "1.2.0",
      "_view_name": "LayoutView",
      "align_content": null,
      "align_items": null,
      "align_self": null,
      "border": null,
      "bottom": null,
      "display": null,
      "flex": null,
      "flex_flow": null,
      "grid_area": null,
      "grid_auto_columns": null,
      "grid_auto_flow": null,
      "grid_auto_rows": null,
      "grid_column": null,
      "grid_gap": null,
      "grid_row": null,
      "grid_template_areas": null,
      "grid_template_columns": null,
      "grid_template_rows": null,
      "height": null,
      "justify_content": null,
      "justify_items": null,
      "left": null,
      "margin": null,
      "max_height": null,
      "max_width": null,
      "min_height": null,
      "min_width": null,
      "object_fit": null,
      "object_position": null,
      "order": null,
      "overflow": null,
      "overflow_x": null,
      "overflow_y": null,
      "padding": null,
      "right": null,
      "top": null,
      "visibility": null,
      "width": null
     }
    },
    "ba8523587673454c8d392d4e0b1dbc51": {
     "model_module": "@jupyter-widgets/controls",
     "model_module_version": "1.5.0",
     "model_name": "HTMLModel",
     "state": {
      "_dom_classes": [],
      "_model_module": "@jupyter-widgets/controls",
      "_model_module_version": "1.5.0",
      "_model_name": "HTMLModel",
      "_view_count": null,
      "_view_module": "@jupyter-widgets/controls",
      "_view_module_version": "1.5.0",
      "_view_name": "HTMLView",
      "description": "",
      "description_tooltip": null,
      "layout": "IPY_MODEL_dc5a8729d78f45deb11f1a65af079c94",
      "placeholder": "​",
      "style": "IPY_MODEL_12b6d2b847cf4227b70426bcbd286d1b",
      "value": " 16407/16407 [00:00&lt;00:00, 44088.16 examples/s]"
     }
    },
    "ca662c16755f4eee8fec26ee9f1836b2": {
     "model_module": "@jupyter-widgets/controls",
     "model_module_version": "1.5.0",
     "model_name": "ProgressStyleModel",
     "state": {
      "_model_module": "@jupyter-widgets/controls",
      "_model_module_version": "1.5.0",
      "_model_name": "ProgressStyleModel",
      "_view_count": null,
      "_view_module": "@jupyter-widgets/base",
      "_view_module_version": "1.2.0",
      "_view_name": "StyleView",
      "bar_color": null,
      "description_width": ""
     }
    },
    "cd9026a694554f8f8248e4975facf597": {
     "model_module": "@jupyter-widgets/base",
     "model_module_version": "1.2.0",
     "model_name": "LayoutModel",
     "state": {
      "_model_module": "@jupyter-widgets/base",
      "_model_module_version": "1.2.0",
      "_model_name": "LayoutModel",
      "_view_count": null,
      "_view_module": "@jupyter-widgets/base",
      "_view_module_version": "1.2.0",
      "_view_name": "LayoutView",
      "align_content": null,
      "align_items": null,
      "align_self": null,
      "border": null,
      "bottom": null,
      "display": null,
      "flex": null,
      "flex_flow": null,
      "grid_area": null,
      "grid_auto_columns": null,
      "grid_auto_flow": null,
      "grid_auto_rows": null,
      "grid_column": null,
      "grid_gap": null,
      "grid_row": null,
      "grid_template_areas": null,
      "grid_template_columns": null,
      "grid_template_rows": null,
      "height": null,
      "justify_content": null,
      "justify_items": null,
      "left": null,
      "margin": null,
      "max_height": null,
      "max_width": null,
      "min_height": null,
      "min_width": null,
      "object_fit": null,
      "object_position": null,
      "order": null,
      "overflow": null,
      "overflow_x": null,
      "overflow_y": null,
      "padding": null,
      "right": null,
      "top": null,
      "visibility": null,
      "width": null
     }
    },
    "d765ee01b5e042b49adfbdcfe998c14e": {
     "model_module": "@jupyter-widgets/base",
     "model_module_version": "1.2.0",
     "model_name": "LayoutModel",
     "state": {
      "_model_module": "@jupyter-widgets/base",
      "_model_module_version": "1.2.0",
      "_model_name": "LayoutModel",
      "_view_count": null,
      "_view_module": "@jupyter-widgets/base",
      "_view_module_version": "1.2.0",
      "_view_name": "LayoutView",
      "align_content": null,
      "align_items": null,
      "align_self": null,
      "border": null,
      "bottom": null,
      "display": null,
      "flex": null,
      "flex_flow": null,
      "grid_area": null,
      "grid_auto_columns": null,
      "grid_auto_flow": null,
      "grid_auto_rows": null,
      "grid_column": null,
      "grid_gap": null,
      "grid_row": null,
      "grid_template_areas": null,
      "grid_template_columns": null,
      "grid_template_rows": null,
      "height": null,
      "justify_content": null,
      "justify_items": null,
      "left": null,
      "margin": null,
      "max_height": null,
      "max_width": null,
      "min_height": null,
      "min_width": null,
      "object_fit": null,
      "object_position": null,
      "order": null,
      "overflow": null,
      "overflow_x": null,
      "overflow_y": null,
      "padding": null,
      "right": null,
      "top": null,
      "visibility": null,
      "width": null
     }
    },
    "d94c68eef0fc4ce9b1bd6dfeb16c6cb4": {
     "model_module": "@jupyter-widgets/base",
     "model_module_version": "1.2.0",
     "model_name": "LayoutModel",
     "state": {
      "_model_module": "@jupyter-widgets/base",
      "_model_module_version": "1.2.0",
      "_model_name": "LayoutModel",
      "_view_count": null,
      "_view_module": "@jupyter-widgets/base",
      "_view_module_version": "1.2.0",
      "_view_name": "LayoutView",
      "align_content": null,
      "align_items": null,
      "align_self": null,
      "border": null,
      "bottom": null,
      "display": null,
      "flex": null,
      "flex_flow": null,
      "grid_area": null,
      "grid_auto_columns": null,
      "grid_auto_flow": null,
      "grid_auto_rows": null,
      "grid_column": null,
      "grid_gap": null,
      "grid_row": null,
      "grid_template_areas": null,
      "grid_template_columns": null,
      "grid_template_rows": null,
      "height": null,
      "justify_content": null,
      "justify_items": null,
      "left": null,
      "margin": null,
      "max_height": null,
      "max_width": null,
      "min_height": null,
      "min_width": null,
      "object_fit": null,
      "object_position": null,
      "order": null,
      "overflow": null,
      "overflow_x": null,
      "overflow_y": null,
      "padding": null,
      "right": null,
      "top": null,
      "visibility": null,
      "width": null
     }
    },
    "db864b42b6884461b9ae1d9296df6bda": {
     "model_module": "@jupyter-widgets/controls",
     "model_module_version": "1.5.0",
     "model_name": "HTMLModel",
     "state": {
      "_dom_classes": [],
      "_model_module": "@jupyter-widgets/controls",
      "_model_module_version": "1.5.0",
      "_model_name": "HTMLModel",
      "_view_count": null,
      "_view_module": "@jupyter-widgets/controls",
      "_view_module_version": "1.5.0",
      "_view_name": "HTMLView",
      "description": "",
      "description_tooltip": null,
      "layout": "IPY_MODEL_7b29bbde47334d6aa4253d42afa56572",
      "placeholder": "​",
      "style": "IPY_MODEL_2a49da132d2c4e7ab79cc519812e4dd4",
      "value": "medDataset_processed.csv: 100%"
     }
    },
    "dc5a8729d78f45deb11f1a65af079c94": {
     "model_module": "@jupyter-widgets/base",
     "model_module_version": "1.2.0",
     "model_name": "LayoutModel",
     "state": {
      "_model_module": "@jupyter-widgets/base",
      "_model_module_version": "1.2.0",
      "_model_name": "LayoutModel",
      "_view_count": null,
      "_view_module": "@jupyter-widgets/base",
      "_view_module_version": "1.2.0",
      "_view_name": "LayoutView",
      "align_content": null,
      "align_items": null,
      "align_self": null,
      "border": null,
      "bottom": null,
      "display": null,
      "flex": null,
      "flex_flow": null,
      "grid_area": null,
      "grid_auto_columns": null,
      "grid_auto_flow": null,
      "grid_auto_rows": null,
      "grid_column": null,
      "grid_gap": null,
      "grid_row": null,
      "grid_template_areas": null,
      "grid_template_columns": null,
      "grid_template_rows": null,
      "height": null,
      "justify_content": null,
      "justify_items": null,
      "left": null,
      "margin": null,
      "max_height": null,
      "max_width": null,
      "min_height": null,
      "min_width": null,
      "object_fit": null,
      "object_position": null,
      "order": null,
      "overflow": null,
      "overflow_x": null,
      "overflow_y": null,
      "padding": null,
      "right": null,
      "top": null,
      "visibility": null,
      "width": null
     }
    },
    "dce3f6bc4e144a34b27f51eb4cf2cc65": {
     "model_module": "@jupyter-widgets/controls",
     "model_module_version": "1.5.0",
     "model_name": "FloatProgressModel",
     "state": {
      "_dom_classes": [],
      "_model_module": "@jupyter-widgets/controls",
      "_model_module_version": "1.5.0",
      "_model_name": "FloatProgressModel",
      "_view_count": null,
      "_view_module": "@jupyter-widgets/controls",
      "_view_module_version": "1.5.0",
      "_view_name": "ProgressView",
      "bar_style": "success",
      "description": "",
      "description_tooltip": null,
      "layout": "IPY_MODEL_9f551d1a632e4d08aeec03ad8d7a204e",
      "max": 233,
      "min": 0,
      "orientation": "horizontal",
      "style": "IPY_MODEL_0002ede8428f42ad9c9458294830299f",
      "value": 233
     }
    },
    "ecb0c41823a14a249522fb93e7c61960": {
     "model_module": "@jupyter-widgets/controls",
     "model_module_version": "1.5.0",
     "model_name": "FloatProgressModel",
     "state": {
      "_dom_classes": [],
      "_model_module": "@jupyter-widgets/controls",
      "_model_module_version": "1.5.0",
      "_model_name": "FloatProgressModel",
      "_view_count": null,
      "_view_module": "@jupyter-widgets/controls",
      "_view_module_version": "1.5.0",
      "_view_name": "ProgressView",
      "bar_style": "success",
      "description": "",
      "description_tooltip": null,
      "layout": "IPY_MODEL_3ecbd3dacd504ca5a9b01353e47fe5c7",
      "max": 16407,
      "min": 0,
      "orientation": "horizontal",
      "style": "IPY_MODEL_ca662c16755f4eee8fec26ee9f1836b2",
      "value": 16407
     }
    },
    "fd062ad416d848d6a7c437ef24b729a8": {
     "model_module": "@jupyter-widgets/controls",
     "model_module_version": "1.5.0",
     "model_name": "HTMLModel",
     "state": {
      "_dom_classes": [],
      "_model_module": "@jupyter-widgets/controls",
      "_model_module_version": "1.5.0",
      "_model_name": "HTMLModel",
      "_view_count": null,
      "_view_module": "@jupyter-widgets/controls",
      "_view_module_version": "1.5.0",
      "_view_name": "HTMLView",
      "description": "",
      "description_tooltip": null,
      "layout": "IPY_MODEL_172134e721eb49af9f6347b9f7356ae3",
      "placeholder": "​",
      "style": "IPY_MODEL_8d6a315349464fdc86757ecfcb97f7bc",
      "value": "Generating train split: 100%"
     }
    }
   }
  }
 },
 "nbformat": 4,
 "nbformat_minor": 4
}
